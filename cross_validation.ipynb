{
 "cells": [
  {
   "cell_type": "code",
   "execution_count": 2,
   "metadata": {},
   "outputs": [],
   "source": [
    "import sys\n",
    "sys.path.append('.')\n",
    "\n",
    "import numpy as np\n",
    "\n",
    "from annotation_ems.gen_dataset import generate_dataset\n",
    "from annotation_ems.ems_prepare import split, prepare_json\n",
    "import itertools as it\n",
    "\n",
    "import subprocess\n",
    "import os\n",
    "import time\n",
    "import random\n",
    "\n",
    "### begin of config\n",
    "\n",
    "dataset_path = '/mnt/data/yxchen/gesture-datasets/ems'\n",
    "output_path = './annotation_ems/'\n",
    "\n",
    "expr_name_train = \"crossval0003_train\" # Name of trained model\n",
    "expr_name_test = \"crossval0003_test\"   # Name of testing script\n",
    "modality = \"rgb\"  # d, rgb, rgbd\n",
    "labels = ['wrist_left', 'wrist_right', 'pronation', 'supination']"
   ]
  },
  {
   "cell_type": "code",
   "execution_count": 3,
   "metadata": {},
   "outputs": [],
   "source": [
    "# Put your entire list of datasets here\n",
    "data_batch = ['subject01_machine_recovery_3gps_2pairs', \\\n",
    "              'subject01_machine_recovery_3gps_2pairs_03', \\\n",
    "              'subject01_machine_recovery_3gps_2pairs_04', \\\n",
    "              'subject01_machine_recovery_3gps_2pairs_05', \\\n",
    "              'subject01_machine_recovery_3gps_2pairs_06', \n",
    "              'subject03_03']\n",
    "#data_batch = [6,5,4,3,2,1]\n",
    "data_batch.sort()"
   ]
  },
  {
   "cell_type": "code",
   "execution_count": 4,
   "metadata": {},
   "outputs": [
    {
     "data": {
      "text/plain": [
       "['subject01_machine_recovery_3gps_2pairs',\n",
       " 'subject01_machine_recovery_3gps_2pairs_03',\n",
       " 'subject01_machine_recovery_3gps_2pairs_04',\n",
       " 'subject01_machine_recovery_3gps_2pairs_05',\n",
       " 'subject01_machine_recovery_3gps_2pairs_06',\n",
       " 'subject03_03']"
      ]
     },
     "execution_count": 4,
     "metadata": {},
     "output_type": "execute_result"
    }
   ],
   "source": [
    "data_batch"
   ]
  },
  {
   "cell_type": "code",
   "execution_count": 5,
   "metadata": {},
   "outputs": [],
   "source": [
    "instance_ratio = 5  # Number of datasets used for training\n",
    "combinations = list(it.combinations(data_batch, instance_ratio))"
   ]
  },
  {
   "cell_type": "code",
   "execution_count": 6,
   "metadata": {},
   "outputs": [
    {
     "data": {
      "text/plain": [
       "[('subject01_machine_recovery_3gps_2pairs',\n",
       "  'subject01_machine_recovery_3gps_2pairs_03',\n",
       "  'subject01_machine_recovery_3gps_2pairs_04',\n",
       "  'subject01_machine_recovery_3gps_2pairs_05',\n",
       "  'subject01_machine_recovery_3gps_2pairs_06'),\n",
       " ('subject01_machine_recovery_3gps_2pairs',\n",
       "  'subject01_machine_recovery_3gps_2pairs_03',\n",
       "  'subject01_machine_recovery_3gps_2pairs_04',\n",
       "  'subject01_machine_recovery_3gps_2pairs_05',\n",
       "  'subject03_03'),\n",
       " ('subject01_machine_recovery_3gps_2pairs',\n",
       "  'subject01_machine_recovery_3gps_2pairs_03',\n",
       "  'subject01_machine_recovery_3gps_2pairs_04',\n",
       "  'subject01_machine_recovery_3gps_2pairs_06',\n",
       "  'subject03_03'),\n",
       " ('subject01_machine_recovery_3gps_2pairs',\n",
       "  'subject01_machine_recovery_3gps_2pairs_03',\n",
       "  'subject01_machine_recovery_3gps_2pairs_05',\n",
       "  'subject01_machine_recovery_3gps_2pairs_06',\n",
       "  'subject03_03'),\n",
       " ('subject01_machine_recovery_3gps_2pairs',\n",
       "  'subject01_machine_recovery_3gps_2pairs_04',\n",
       "  'subject01_machine_recovery_3gps_2pairs_05',\n",
       "  'subject01_machine_recovery_3gps_2pairs_06',\n",
       "  'subject03_03'),\n",
       " ('subject01_machine_recovery_3gps_2pairs_03',\n",
       "  'subject01_machine_recovery_3gps_2pairs_04',\n",
       "  'subject01_machine_recovery_3gps_2pairs_05',\n",
       "  'subject01_machine_recovery_3gps_2pairs_06',\n",
       "  'subject03_03')]"
      ]
     },
     "execution_count": 6,
     "metadata": {},
     "output_type": "execute_result"
    }
   ],
   "source": [
    "combinations # Possible combinations of datasets"
   ]
  },
  {
   "cell_type": "code",
   "execution_count": 7,
   "metadata": {},
   "outputs": [
    {
     "name": "stdout",
     "output_type": "stream",
     "text": [
      "crossval0003_train0001\n",
      "crossval0003_train0002\n",
      "crossval0003_train0003\n",
      "crossval0003_train0004\n",
      "crossval0003_train0005\n",
      "crossval0003_train0006\n",
      "crossval0003_test0001\n",
      "crossval0003_test0002\n",
      "crossval0003_test0003\n",
      "crossval0003_test0004\n",
      "crossval0003_test0005\n",
      "crossval0003_test0006\n"
     ]
    }
   ],
   "source": [
    "# Prepare annotation for dataset\n",
    "\n",
    "train_ratio = 100   # How much percent if for training\n",
    "test_ratio = 0      # How much percent is not for testing\n",
    "count = 1\n",
    "\n",
    "for combination in combinations:\n",
    "    name = '000%d' % count if (count < 10) else \\\n",
    "    ('00%d' % count if count <100 else \\\n",
    "    ('0%d' % count if count < 1000 else \\\n",
    "    ('%d' %count)))\n",
    "    print(expr_name_train+name)\n",
    "    #print(combination)\n",
    "    training_data = list(combination)\n",
    "    train_partition = { i : train_ratio for i in training_data }\n",
    "    testing_data = list(set(data_batch) - set(combination))\n",
    "    test_partition = { }\n",
    "    ### end of config\n",
    "    generate_dataset(expr_name=expr_name_train+name, modality=modality, dataset_path=dataset_path, output_path=output_path, train_partition=train_partition, test_partition=test_partition, labels=labels)\n",
    "    prepare_json(csv_dir_path=output_path, expr_name=expr_name_train+name)\n",
    "    count += 1\n",
    "\n",
    "count = 1\n",
    "for dataset in data_batch:\n",
    "    name = '000%d' % count if (count <= 10) else \\\n",
    "    ('00%d' % count if count <=100 else \\\n",
    "    ('0%d' % count if count <= 1000 else \\\n",
    "    ('%d' %count)))\n",
    "    print(expr_name_test+name)\n",
    "    train_partition = { }    \n",
    "    test_partition = {dataset: test_ratio}\n",
    "    generate_dataset(expr_name=expr_name_test+name, modality=modality, dataset_path=dataset_path, output_path=output_path, train_partition=train_partition, test_partition=test_partition, labels=labels)\n",
    "    prepare_json(csv_dir_path=output_path, expr_name=expr_name_test+name)\n",
    "    count += 1"
   ]
  },
  {
   "cell_type": "code",
   "execution_count": null,
   "metadata": {},
   "outputs": [
    {
     "name": "stdout",
     "output_type": "stream",
     "text": [
      "crossval0003_train0003\n",
      "crossval0003_train0006\n"
     ]
    }
   ],
   "source": [
    "# Train all the combination models\n",
    "count = 1\n",
    "processes = set()\n",
    "max_processes = 2   # Number of processes to run in parallel at a time\n",
    "\n",
    "for combination in combinations:\n",
    "    if (count != 3 and count != 6):\n",
    "        count += 1\n",
    "        continue\n",
    "    name = '000%d' % count if (count < 10) else \\\n",
    "        ('00%d' % count if count <100 else \\\n",
    "        ('0%d' % count if count < 1000 else \\\n",
    "        ('%d' %count)))\n",
    "    cmd = \"CUDA_VISIBLE_DEVICES=%d nohup python main.py \\\n",
    "        --root_path /mnt/data/jarvislam1999/Real-time-GesRec \\\n",
    "        --video_path %s \\\n",
    "        --annotation_path annotation_ems/ems%s.json\\\n",
    "        --result_path results/ems%s \\\n",
    "        --pretrain_path /mnt/data/yxchen/model-zoo/jester_resnext_101_RGB_32.pth \\\n",
    "        --dataset ems \\\n",
    "        --sample_duration 32 \\\n",
    "        --learning_rate 0.01 \\\n",
    "        --model resnext \\\n",
    "        --model_depth 101 \\\n",
    "        --resnet_shortcut B \\\n",
    "        --batch_size 12 \\\n",
    "        --n_classes 27 \\\n",
    "        --n_finetune_classes 4 \\\n",
    "        --n_threads 16 \\\n",
    "        --checkpoint 1 \\\n",
    "        --modality RGB \\\n",
    "        --train_crop random \\\n",
    "        --n_val_samples 1 \\\n",
    "        --test_subset test \\\n",
    "        --n_epochs 40 \\\n",
    "        --no_val \\\n",
    "        --checkpoint 5\\\n",
    "    \" % ((count-1) % 2,dataset_path, expr_name_train+name,expr_name_train+name)\n",
    "    print(expr_name_train+name)\n",
    "    out = open('ems%sout.txt'%(expr_name_train+name), 'w')\n",
    "    processes.add(subprocess.Popen(cmd, shell=True, stdout = out, stderr = out))\n",
    "    #print(processes)\n",
    "    count += 1\n",
    "    if len(processes) >= max_processes:\n",
    "        os.wait()\n",
    "        processes.difference_update(\n",
    "            [p for p in processes if p.poll() is not None])\n",
    "        \n",
    "#Check if all the child processes were closed\n",
    "for p in processes:\n",
    "    if p.poll() is None:\n",
    "        p.wait()"
   ]
  },
  {
   "cell_type": "code",
   "execution_count": null,
   "metadata": {},
   "outputs": [],
   "source": [
    "import os\n",
    "os.environ[\"CUDA_VISIBLE_DEVICES\"] = \"%d\" % random.randrange(0,4)\n",
    "\n",
    "import sys\n",
    "# sys.path.append('../')\n",
    "os.chdir(\"/mnt/data/jarvislam1999/Re al-time-GesRec/\")\n",
    "\n",
    "from ems_tester import EMSTester"
   ]
  },
  {
   "cell_type": "code",
   "execution_count": null,
   "metadata": {},
   "outputs": [],
   "source": [
    "# Test all the datasets against the models\n",
    "accuracy_dict = {}\n",
    "count_train = 1\n",
    "for combination in combinations:\n",
    "    name_train = '000%d' % count_train if (count_train < 10) else \\\n",
    "            ('00%d' % count_train if count_train <100 else \\\n",
    "            ('0%d' % count_train if count_train < 1000 else \\\n",
    "            ('%d' %count_train)))\n",
    "    print(name_train)\n",
    "    training_data = list(combination)\n",
    "    train_partition = { i : train_ratio for i in training_data }\n",
    "    testing_data = list(set(data_batch) - set(combination))\n",
    "    \n",
    "    accuracy_list = []\n",
    "    count_test = 1\n",
    "    for dataset in data_batch:\n",
    "        name_test = '000%d' % count_test if (count_test <= 10) else \\\n",
    "            ('00%d' % count_test if count_test <=100 else \\\n",
    "            ('0%d' % count_test if count_test <= 1000 else \\\n",
    "            ('%d' %count_test)))\n",
    "        print(name_test)\n",
    "        tester = EMSTester(root_path='/mnt/data/jarvislam1999/Real-time-GesRec',\n",
    "                  video_path='/mnt/data/yxchen/gesture-datasets/ems',\n",
    "                  annotation_path='annotation_ems/ems%s.json' % (expr_name_test+name_test),\n",
    "                  result_path='results/ems%s_test' % (expr_name_test+name_test),\n",
    "                  model_path='results/ems%s/save_30.pth' %(expr_name_train+name_train))\n",
    "        y_pred, y_true, test_data = tester.test()\n",
    "        if dataset in training_data:\n",
    "            accuracy_list.append(- np.sum(np.equal(y_pred, y_true))/len(y_pred)*100)\n",
    "        elif (dataset in testing_data):\n",
    "            accuracy_list.append(np.sum(np.equal(y_pred, y_true))/len(y_pred)*100)\n",
    "        count_test+=1\n",
    "    accuracy_dict[expr_name_train+name_train] = accuracy_list\n",
    "    count_train +=1\n",
    "    \n",
    "    "
   ]
  },
  {
   "cell_type": "code",
   "execution_count": null,
   "metadata": {},
   "outputs": [],
   "source": [
    "accuracy_dict"
   ]
  },
  {
   "cell_type": "code",
   "execution_count": null,
   "metadata": {
    "scrolled": true
   },
   "outputs": [],
   "source": [
    "# Visualize the performance\n",
    "\n",
    "import matplotlib.pyplot as plt; plt.rcdefaults()\n",
    "import numpy as np\n",
    "import matplotlib.pyplot as plt\n",
    "\n",
    "objects = tuple(data_batch)\n",
    "y_pos = np.arange(len(objects))\n",
    "performance = accuracy_dict[expr_name_train+'0005']\n",
    "print(objects)\n",
    "print(performance)\n",
    "\n",
    "#plt.subplot(111)\n",
    "count = 1\n",
    "for combination in combinations:\n",
    "    name = '000%d' % count if (count < 10) else \\\n",
    "        ('00%d' % count if count <100 else \\\n",
    "        ('0%d' % count if count < 1000 else \\\n",
    "        ('%d' %count)))\n",
    "    #objects = tuple([\"\"]*len(objects))\n",
    "    y_pos = np.arange(len(objects))\n",
    "    performance = accuracy_dict[expr_name_train+name]\n",
    "    greater = np.logical_or(np.greater(0, performance),\\\n",
    "                             np.greater(performance, 90))\n",
    "    color = [\"b\" if x else \"r\" for x in greater]\n",
    "    plt.subplot(len(objects) // 3 + 1,3,count)\n",
    "    plt.bar(y_pos, performance, align='edge', alpha=0.5,color = color)\n",
    "\n",
    "    #plt.xticks(y_pos, objects)\n",
    "    #plt.ylabel('Performance')\n",
    "    #plt.title('Test data')\n",
    "    count += 1\n",
    "\n",
    "plt.show()"
   ]
  },
  {
   "cell_type": "code",
   "execution_count": null,
   "metadata": {},
   "outputs": [],
   "source": []
  }
 ],
 "metadata": {
  "kernelspec": {
   "display_name": "Python 3",
   "language": "python",
   "name": "python3"
  },
  "language_info": {
   "codemirror_mode": {
    "name": "ipython",
    "version": 3
   },
   "file_extension": ".py",
   "mimetype": "text/x-python",
   "name": "python",
   "nbconvert_exporter": "python",
   "pygments_lexer": "ipython3",
   "version": "3.6.7"
  }
 },
 "nbformat": 4,
 "nbformat_minor": 2
}
