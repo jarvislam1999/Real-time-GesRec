{
 "cells": [
  {
   "cell_type": "code",
   "execution_count": 1,
   "metadata": {},
   "outputs": [],
   "source": [
    "import sys\n",
    "sys.path.append('.')\n",
    "\n",
    "import numpy as np\n",
    "\n",
    "from annotation_ems.gen_dataset import generate_dataset\n",
    "from annotation_ems.ems_prepare import split, prepare_json\n",
    "import itertools as it\n",
    "\n",
    "import subprocess\n",
    "import os\n",
    "import time\n",
    "import random\n",
    "\n",
    "### begin of config\n",
    "\n",
    "dataset_path = '/mnt/data/yxchen/gesture-datasets/ems'\n",
    "output_path = './annotation_ems/'\n",
    "\n",
    "expr_name_train = \"\"\n",
    "expr_name_test = \"\"\n",
    "modality = \"rgb\"  # d, rgb, rgbd\n",
    "labels = ['wrist_left', 'wrist_right', 'pronation', 'supination']"
   ]
  },
  {
   "cell_type": "code",
   "execution_count": 2,
   "metadata": {},
   "outputs": [],
   "source": [
    "data_batch = ['subject01_machine_recovery_3gps_2pairs', \\\n",
    "             'subject01_machine_recovery_3gps_2pairs_03', \\\n",
    "             'subject01_machine_recovery_3gps_2pairs_04', \\\n",
    "             'subject01_machine_recovery_3gps_2pairs_05', \\\n",
    "             'subject01_machine_recovery_3gps_2pairs_06']\n",
    "#data_batch = [6,5,4,3,2,1]\n",
    "data_batch.sort()"
   ]
  },
  {
   "cell_type": "code",
   "execution_count": 3,
   "metadata": {},
   "outputs": [],
   "source": [
    "#instance_ratio = 4\n",
    "#combinations = list(it.combinations(data_batch, instance_ratio))"
   ]
  },
  {
   "cell_type": "code",
   "execution_count": 4,
   "metadata": {},
   "outputs": [],
   "source": [
    "#combinations"
   ]
  },
  {
   "cell_type": "code",
   "execution_count": 18,
   "metadata": {},
   "outputs": [
    {
     "name": "stdout",
     "output_type": "stream",
     "text": [
      "1.1\n",
      "verify0001\n",
      "verify0002\n",
      "verify0003\n",
      "verify0004\n",
      "verify0005\n"
     ]
    }
   ],
   "source": [
    "train_ratio = 50\n",
    "test_ratio = 50\n",
    "count = 1\n",
    "expr_name = \"1.1\"\n",
    "\n",
    "train_partition = {x: train_ratio for x in data_batch}\n",
    "test_partition = {x: test_ratio for x in data_batch}\n",
    "generate_dataset(expr_name=expr_name, modality=modality, dataset_path=dataset_path, output_path=output_path, train_partition=train_partition, test_partition=test_partition, labels=labels)\n",
    "prepare_json(csv_dir_path=output_path, expr_name=expr_name)\n",
    "print(expr_name)\n",
    "\n",
    "train_ratio_verify = 50\n",
    "test_ratio_verify = 50\n",
    "expr_name_ver = \"verify\"\n",
    "count = 1\n",
    "for dataset in data_batch:\n",
    "    name = '000%d' % count if (count <= 10) else \\\n",
    "    ('00%d' % count if count <=100 else \\\n",
    "    ('0%d' % count if count <= 1000 else \\\n",
    "    ('%d' %count)))\n",
    "    print(expr_name_ver+name)\n",
    "    train_partition = {dataset: train_ratio_verify }    \n",
    "    test_partition = {dataset: test_ratio_verify}\n",
    "    generate_dataset(expr_name=expr_name_ver+name, modality=modality, dataset_path=dataset_path, output_path=output_path, train_partition=train_partition, test_partition=test_partition, labels=labels)\n",
    "    prepare_json(csv_dir_path=output_path, expr_name=expr_name_ver+name)\n",
    "    count += 1"
   ]
  },
  {
   "cell_type": "code",
   "execution_count": 13,
   "metadata": {},
   "outputs": [
    {
     "name": "stdout",
     "output_type": "stream",
     "text": [
      "verify0005\n",
      "1.1\n"
     ]
    }
   ],
   "source": [
    "count = 1\n",
    "processes = set()\n",
    "max_processes = 4\n",
    "\n",
    "for dataset in data_batch:\n",
    "    if (count < 5):\n",
    "        count += 1\n",
    "        continue\n",
    "    name = '000%d' % count if (count <= 10) else \\\n",
    "        ('00%d' % count if count <=100 else \\\n",
    "        ('0%d' % count if count <= 1000 else \\\n",
    "        ('%d' %count)))\n",
    "    cmd = \"CUDA_VISIBLE_DEVICES=%d nohup python main.py \\\n",
    "        --root_path /mnt/data/jarvislam1999/Real-time-GesRec \\\n",
    "        --video_path /mnt/data/yxchen/gesture-datasets/ems \\\n",
    "        --annotation_path annotation_ems/ems%s.json\\\n",
    "        --result_path results/ems%s \\\n",
    "        --pretrain_path /mnt/data/yxchen/model-zoo/jester_resnext_101_RGB_32.pth \\\n",
    "        --dataset ems \\\n",
    "        --sample_duration 32 \\\n",
    "        --learning_rate 0.01 \\\n",
    "        --model resnext \\\n",
    "        --model_depth 101 \\\n",
    "        --resnet_shortcut B \\\n",
    "        --batch_size 12 \\\n",
    "        --n_classes 27 \\\n",
    "        --n_finetune_classes 4 \\\n",
    "        --n_threads 16 \\\n",
    "        --checkpoint 1 \\\n",
    "        --modality RGB \\\n",
    "        --train_crop random \\\n",
    "        --n_val_samples 1 \\\n",
    "        --test_subset test \\\n",
    "        --n_epochs 40 \\\n",
    "        --no_val \\\n",
    "        --checkpoint 5\\\n",
    "    \" % ((count-1) % 4,expr_name_ver+name,expr_name_ver+name)\n",
    "    print(expr_name_ver+name)\n",
    "    out = open('ems%sout.txt'%(expr_name_ver+name), 'w')\n",
    "    processes.add(subprocess.Popen(cmd, shell=True, stdout = out, stderr = out))\n",
    "    #print(processes)\n",
    "    count += 1\n",
    "    if len(processes) >= max_processes:\n",
    "        os.wait()\n",
    "        processes.difference_update(\n",
    "            [p for p in processes if p.poll() is not None])\n",
    "\n",
    "cmd = \"CUDA_VISIBLE_DEVICES=%d nohup python main.py \\\n",
    "        --root_path /mnt/data/jarvislam1999/Real-time-GesRec \\\n",
    "        --video_path /mnt/data/yxchen/gesture-datasets/ems \\\n",
    "        --annotation_path annotation_ems/ems%s.json\\\n",
    "        --result_path results/ems%s \\\n",
    "        --pretrain_path /mnt/data/yxchen/model-zoo/jester_resnext_101_RGB_32.pth \\\n",
    "        --dataset ems \\\n",
    "        --sample_duration 32 \\\n",
    "        --learning_rate 0.01 \\\n",
    "        --model resnext \\\n",
    "        --model_depth 101 \\\n",
    "        --resnet_shortcut B \\\n",
    "        --batch_size 12 \\\n",
    "        --n_classes 27 \\\n",
    "        --n_finetune_classes 4 \\\n",
    "        --n_threads 16 \\\n",
    "        --checkpoint 1 \\\n",
    "        --modality RGB \\\n",
    "        --train_crop random \\\n",
    "        --n_val_samples 1 \\\n",
    "        --test_subset test \\\n",
    "        --n_epochs 40 \\\n",
    "        --no_val \\\n",
    "        --checkpoint 5\\\n",
    "    \" % ((count-1) % 4,expr_name,expr_name)\n",
    "print(expr_name)\n",
    "out = open('ems%sout.txt'%(expr_name), 'w')\n",
    "#processes.add(subprocess.Popen(cmd, shell=True, stdout = out, stderr = out))\n",
    "#Check if all the child processes were closed\n",
    "for p in processes:\n",
    "    if p.poll() is None:\n",
    "        p.wait()\n",
    "        \n"
   ]
  },
  {
   "cell_type": "code",
   "execution_count": 14,
   "metadata": {},
   "outputs": [],
   "source": [
    "import os\n",
    "os.environ[\"CUDA_VISIBLE_DEVICES\"] = \"%d\" % random.randrange(0,4)\n",
    "\n",
    "import sys\n",
    "# sys.path.append('../')\n",
    "os.chdir(\"/mnt/data/jarvislam1999/Real-time-GesRec/\")\n",
    "\n",
    "from ems_tester import EMSTester"
   ]
  },
  {
   "cell_type": "code",
   "execution_count": 17,
   "metadata": {},
   "outputs": [
    {
     "name": "stdout",
     "output_type": "stream",
     "text": [
      "0001\n",
      "Namespace(annotation_path='/mnt/data/jarvislam1999/Real-time-GesRec/annotation_ems/emsverify0001.json', arch='resnext-101', batch_size=1, begin_epoch=1, checkpoint=1, crop_position_in_test='c', dampening=0.9, dataset='ems', ft_begin_index=0, initial_scale=1.0, learning_rate=0.1, lr_patience=10, lr_steps=[10, 25, 50, 80, 100], manual_seed=1, mean=[114.7748, 107.7354, 99.475], mean_dataset='activitynet', modality='RGB', model='resnext', model_depth=101, momentum=0.9, n_classes=400, n_epochs=200, n_finetune_classes=4, n_scales=5, n_threads=1, n_val_samples=1, nesterov=False, no_cuda=False, no_hflip=False, no_mean_norm=False, no_softmax_in_test=False, no_train=False, no_val=False, norm_value=1, optimizer='sgd', pretrain_path='', resnet_shortcut='B', resnext_cardinality=32, result_path='/mnt/data/jarvislam1999/Real-time-GesRec/results/emsverify0001_test', resume_path='/mnt/data/jarvislam1999/Real-time-GesRec/results/emsverify0001/save_30.pth', root_path='/mnt/data/jarvislam1999/Real-time-GesRec', sample_duration=32, sample_size=112, scale_in_test=1.0, scale_step=0.84089641525, scales=[1.0, 0.84089641525, 0.7071067811803005, 0.5946035574934808, 0.4999999999911653], std=[38.7568578, 37.88248729, 40.02898126], std_norm=False, store_name='model', test=False, test_subset='test', train_crop='corner', train_validate=False, video_path='/mnt/data/yxchen/gesture-datasets/ems', weight_decay=0.001, weighted=False, wide_resnet_k=2)\n",
      "[INFO]: RGB model is used for init model\n",
      "Total number of trainable parameters:  47529412\n",
      "[INFO]: EMS Dataset - testing is loading...\n",
      "dataset loading [0/198]\n",
      "loading checkpoint /mnt/data/jarvislam1999/Real-time-GesRec/results/emsverify0001/save_30.pth\n",
      "Batch time: 0\n",
      "Batch time: 0.1485356441651932\n",
      "-----Evaluation is finished------\n",
      "Overall Prec@1 99.49495%\n",
      "0002\n",
      "Namespace(annotation_path='/mnt/data/jarvislam1999/Real-time-GesRec/annotation_ems/emsverify0002.json', arch='resnext-101', batch_size=1, begin_epoch=1, checkpoint=1, crop_position_in_test='c', dampening=0.9, dataset='ems', ft_begin_index=0, initial_scale=1.0, learning_rate=0.1, lr_patience=10, lr_steps=[10, 25, 50, 80, 100], manual_seed=1, mean=[114.7748, 107.7354, 99.475], mean_dataset='activitynet', modality='RGB', model='resnext', model_depth=101, momentum=0.9, n_classes=400, n_epochs=200, n_finetune_classes=4, n_scales=5, n_threads=1, n_val_samples=1, nesterov=False, no_cuda=False, no_hflip=False, no_mean_norm=False, no_softmax_in_test=False, no_train=False, no_val=False, norm_value=1, optimizer='sgd', pretrain_path='', resnet_shortcut='B', resnext_cardinality=32, result_path='/mnt/data/jarvislam1999/Real-time-GesRec/results/emsverify0002_test', resume_path='/mnt/data/jarvislam1999/Real-time-GesRec/results/emsverify0002/save_30.pth', root_path='/mnt/data/jarvislam1999/Real-time-GesRec', sample_duration=32, sample_size=112, scale_in_test=1.0, scale_step=0.84089641525, scales=[1.0, 0.84089641525, 0.7071067811803005, 0.5946035574934808, 0.4999999999911653], std=[38.7568578, 37.88248729, 40.02898126], std_norm=False, store_name='model', test=False, test_subset='test', train_crop='corner', train_validate=False, video_path='/mnt/data/yxchen/gesture-datasets/ems', weight_decay=0.001, weighted=False, wide_resnet_k=2)\n",
      "[INFO]: RGB model is used for init model\n",
      "Total number of trainable parameters:  47529412\n",
      "[INFO]: EMS Dataset - testing is loading...\n",
      "dataset loading [0/200]\n",
      "loading checkpoint /mnt/data/jarvislam1999/Real-time-GesRec/results/emsverify0002/save_30.pth\n",
      "Batch time: 0\n",
      "Batch time: 0.15162810564041138\n",
      "-----Evaluation is finished------\n",
      "Overall Prec@1 99.50000%\n",
      "0003\n",
      "Namespace(annotation_path='/mnt/data/jarvislam1999/Real-time-GesRec/annotation_ems/emsverify0003.json', arch='resnext-101', batch_size=1, begin_epoch=1, checkpoint=1, crop_position_in_test='c', dampening=0.9, dataset='ems', ft_begin_index=0, initial_scale=1.0, learning_rate=0.1, lr_patience=10, lr_steps=[10, 25, 50, 80, 100], manual_seed=1, mean=[114.7748, 107.7354, 99.475], mean_dataset='activitynet', modality='RGB', model='resnext', model_depth=101, momentum=0.9, n_classes=400, n_epochs=200, n_finetune_classes=4, n_scales=5, n_threads=1, n_val_samples=1, nesterov=False, no_cuda=False, no_hflip=False, no_mean_norm=False, no_softmax_in_test=False, no_train=False, no_val=False, norm_value=1, optimizer='sgd', pretrain_path='', resnet_shortcut='B', resnext_cardinality=32, result_path='/mnt/data/jarvislam1999/Real-time-GesRec/results/emsverify0003_test', resume_path='/mnt/data/jarvislam1999/Real-time-GesRec/results/emsverify0003/save_30.pth', root_path='/mnt/data/jarvislam1999/Real-time-GesRec', sample_duration=32, sample_size=112, scale_in_test=1.0, scale_step=0.84089641525, scales=[1.0, 0.84089641525, 0.7071067811803005, 0.5946035574934808, 0.4999999999911653], std=[38.7568578, 37.88248729, 40.02898126], std_norm=False, store_name='model', test=False, test_subset='test', train_crop='corner', train_validate=False, video_path='/mnt/data/yxchen/gesture-datasets/ems', weight_decay=0.001, weighted=False, wide_resnet_k=2)\n",
      "[INFO]: RGB model is used for init model\n",
      "Total number of trainable parameters:  47529412\n",
      "[INFO]: EMS Dataset - testing is loading...\n",
      "dataset loading [0/200]\n",
      "loading checkpoint /mnt/data/jarvislam1999/Real-time-GesRec/results/emsverify0003/save_30.pth\n",
      "Batch time: 0\n",
      "Batch time: 0.14966609358787536\n",
      "-----Evaluation is finished------\n",
      "Overall Prec@1 99.00000%\n",
      "0004\n",
      "Namespace(annotation_path='/mnt/data/jarvislam1999/Real-time-GesRec/annotation_ems/emsverify0004.json', arch='resnext-101', batch_size=1, begin_epoch=1, checkpoint=1, crop_position_in_test='c', dampening=0.9, dataset='ems', ft_begin_index=0, initial_scale=1.0, learning_rate=0.1, lr_patience=10, lr_steps=[10, 25, 50, 80, 100], manual_seed=1, mean=[114.7748, 107.7354, 99.475], mean_dataset='activitynet', modality='RGB', model='resnext', model_depth=101, momentum=0.9, n_classes=400, n_epochs=200, n_finetune_classes=4, n_scales=5, n_threads=1, n_val_samples=1, nesterov=False, no_cuda=False, no_hflip=False, no_mean_norm=False, no_softmax_in_test=False, no_train=False, no_val=False, norm_value=1, optimizer='sgd', pretrain_path='', resnet_shortcut='B', resnext_cardinality=32, result_path='/mnt/data/jarvislam1999/Real-time-GesRec/results/emsverify0004_test', resume_path='/mnt/data/jarvislam1999/Real-time-GesRec/results/emsverify0004/save_30.pth', root_path='/mnt/data/jarvislam1999/Real-time-GesRec', sample_duration=32, sample_size=112, scale_in_test=1.0, scale_step=0.84089641525, scales=[1.0, 0.84089641525, 0.7071067811803005, 0.5946035574934808, 0.4999999999911653], std=[38.7568578, 37.88248729, 40.02898126], std_norm=False, store_name='model', test=False, test_subset='test', train_crop='corner', train_validate=False, video_path='/mnt/data/yxchen/gesture-datasets/ems', weight_decay=0.001, weighted=False, wide_resnet_k=2)\n",
      "[INFO]: RGB model is used for init model\n",
      "Total number of trainable parameters:  47529412\n",
      "[INFO]: EMS Dataset - testing is loading...\n",
      "dataset loading [0/200]\n",
      "loading checkpoint /mnt/data/jarvislam1999/Real-time-GesRec/results/emsverify0004/save_30.pth\n",
      "Batch time: 0\n",
      "Batch time: 0.14890635013580322\n",
      "-----Evaluation is finished------\n",
      "Overall Prec@1 98.50000%\n",
      "0005\n",
      "Namespace(annotation_path='/mnt/data/jarvislam1999/Real-time-GesRec/annotation_ems/emsverify0005.json', arch='resnext-101', batch_size=1, begin_epoch=1, checkpoint=1, crop_position_in_test='c', dampening=0.9, dataset='ems', ft_begin_index=0, initial_scale=1.0, learning_rate=0.1, lr_patience=10, lr_steps=[10, 25, 50, 80, 100], manual_seed=1, mean=[114.7748, 107.7354, 99.475], mean_dataset='activitynet', modality='RGB', model='resnext', model_depth=101, momentum=0.9, n_classes=400, n_epochs=200, n_finetune_classes=4, n_scales=5, n_threads=1, n_val_samples=1, nesterov=False, no_cuda=False, no_hflip=False, no_mean_norm=False, no_softmax_in_test=False, no_train=False, no_val=False, norm_value=1, optimizer='sgd', pretrain_path='', resnet_shortcut='B', resnext_cardinality=32, result_path='/mnt/data/jarvislam1999/Real-time-GesRec/results/emsverify0005_test', resume_path='/mnt/data/jarvislam1999/Real-time-GesRec/results/emsverify0005/save_30.pth', root_path='/mnt/data/jarvislam1999/Real-time-GesRec', sample_duration=32, sample_size=112, scale_in_test=1.0, scale_step=0.84089641525, scales=[1.0, 0.84089641525, 0.7071067811803005, 0.5946035574934808, 0.4999999999911653], std=[38.7568578, 37.88248729, 40.02898126], std_norm=False, store_name='model', test=False, test_subset='test', train_crop='corner', train_validate=False, video_path='/mnt/data/yxchen/gesture-datasets/ems', weight_decay=0.001, weighted=False, wide_resnet_k=2)\n"
     ]
    },
    {
     "name": "stdout",
     "output_type": "stream",
     "text": [
      "[INFO]: RGB model is used for init model\n",
      "Total number of trainable parameters:  47529412\n",
      "[INFO]: EMS Dataset - testing is loading...\n",
      "dataset loading [0/200]\n",
      "loading checkpoint /mnt/data/jarvislam1999/Real-time-GesRec/results/emsverify0005/save_30.pth\n",
      "Batch time: 0\n",
      "Batch time: 0.15130516529083252\n",
      "-----Evaluation is finished------\n",
      "Overall Prec@1 99.00000%\n",
      "Namespace(annotation_path='/mnt/data/jarvislam1999/Real-time-GesRec/annotation_ems/ems1.1.json', arch='resnext-101', batch_size=1, begin_epoch=1, checkpoint=1, crop_position_in_test='c', dampening=0.9, dataset='ems', ft_begin_index=0, initial_scale=1.0, learning_rate=0.1, lr_patience=10, lr_steps=[10, 25, 50, 80, 100], manual_seed=1, mean=[114.7748, 107.7354, 99.475], mean_dataset='activitynet', modality='RGB', model='resnext', model_depth=101, momentum=0.9, n_classes=400, n_epochs=200, n_finetune_classes=4, n_scales=5, n_threads=1, n_val_samples=1, nesterov=False, no_cuda=False, no_hflip=False, no_mean_norm=False, no_softmax_in_test=False, no_train=False, no_val=False, norm_value=1, optimizer='sgd', pretrain_path='', resnet_shortcut='B', resnext_cardinality=32, result_path='/mnt/data/jarvislam1999/Real-time-GesRec/results/ems1.1_test', resume_path='/mnt/data/jarvislam1999/Real-time-GesRec/results/ems1.1/save_30.pth', root_path='/mnt/data/jarvislam1999/Real-time-GesRec', sample_duration=32, sample_size=112, scale_in_test=1.0, scale_step=0.84089641525, scales=[1.0, 0.84089641525, 0.7071067811803005, 0.5946035574934808, 0.4999999999911653], std=[38.7568578, 37.88248729, 40.02898126], std_norm=False, store_name='model', test=False, test_subset='test', train_crop='corner', train_validate=False, video_path='/mnt/data/yxchen/gesture-datasets/ems', weight_decay=0.001, weighted=False, wide_resnet_k=2)\n",
      "[INFO]: RGB model is used for init model\n",
      "Total number of trainable parameters:  47529412\n",
      "[INFO]: EMS Dataset - testing is loading...\n",
      "dataset loading [0/200]\n",
      "loading checkpoint /mnt/data/jarvislam1999/Real-time-GesRec/results/ems1.1/save_30.pth\n",
      "Batch time: 0\n",
      "Batch time: 0.14857020378112792\n",
      "-----Evaluation is finished------\n",
      "Overall Prec@1 99.50000%\n"
     ]
    }
   ],
   "source": [
    "accuracy_list = []\n",
    "count_test = 1\n",
    "for dataset in data_batch:\n",
    "    name_test = '000%d' % count_test if (count_test <= 10) else \\\n",
    "        ('00%d' % count_test if count_test <=100 else \\\n",
    "        ('0%d' % count_test if count_test <= 1000 else \\\n",
    "        ('%d' %count_test)))\n",
    "    print(name_test)\n",
    "    tester = EMSTester(root_path='/mnt/data/jarvislam1999/Real-time-GesRec',\n",
    "              video_path='/mnt/data/yxchen/gesture-datasets/ems',\n",
    "              annotation_path='annotation_ems/ems%s.json' % (expr_name_ver+name_test),\n",
    "              result_path='results/ems%s_test' % (expr_name_ver+name_test),\n",
    "              model_path='results/ems%s/save_30.pth' %(expr_name_ver+name_test))\n",
    "    y_pred, y_true, test_data = tester.test()\n",
    "    accuracy_list.append(np.sum(np.equal(y_pred, y_true))/len(y_pred)*100)\n",
    "    count_test+=1\n"
   ]
  },
  {
   "cell_type": "code",
   "execution_count": 19,
   "metadata": {},
   "outputs": [
    {
     "name": "stdout",
     "output_type": "stream",
     "text": [
      "Namespace(annotation_path='/mnt/data/jarvislam1999/Real-time-GesRec/annotation_ems/ems1.1.json', arch='resnext-101', batch_size=1, begin_epoch=1, checkpoint=1, crop_position_in_test='c', dampening=0.9, dataset='ems', ft_begin_index=0, initial_scale=1.0, learning_rate=0.1, lr_patience=10, lr_steps=[10, 25, 50, 80, 100], manual_seed=1, mean=[114.7748, 107.7354, 99.475], mean_dataset='activitynet', modality='RGB', model='resnext', model_depth=101, momentum=0.9, n_classes=400, n_epochs=200, n_finetune_classes=4, n_scales=5, n_threads=1, n_val_samples=1, nesterov=False, no_cuda=False, no_hflip=False, no_mean_norm=False, no_softmax_in_test=False, no_train=False, no_val=False, norm_value=1, optimizer='sgd', pretrain_path='', resnet_shortcut='B', resnext_cardinality=32, result_path='/mnt/data/jarvislam1999/Real-time-GesRec/results/ems1.1_test', resume_path='/mnt/data/jarvislam1999/Real-time-GesRec/results/ems1.1/save_30.pth', root_path='/mnt/data/jarvislam1999/Real-time-GesRec', sample_duration=32, sample_size=112, scale_in_test=1.0, scale_step=0.84089641525, scales=[1.0, 0.84089641525, 0.7071067811803005, 0.5946035574934808, 0.4999999999911653], std=[38.7568578, 37.88248729, 40.02898126], std_norm=False, store_name='model', test=False, test_subset='test', train_crop='corner', train_validate=False, video_path='/mnt/data/yxchen/gesture-datasets/ems', weight_decay=0.001, weighted=False, wide_resnet_k=2)\n",
      "[INFO]: RGB model is used for init model\n",
      "Total number of trainable parameters:  47529412\n",
      "[INFO]: EMS Dataset - testing is loading...\n",
      "dataset loading [0/998]\n",
      "loading checkpoint /mnt/data/jarvislam1999/Real-time-GesRec/results/ems1.1/save_30.pth\n",
      "Batch time: 0\n",
      "Batch time: 0.14831851001731858\n",
      "-----Evaluation is finished------\n",
      "Overall Prec@1 99.39880%\n"
     ]
    }
   ],
   "source": [
    "tester = EMSTester(root_path='/mnt/data/jarvislam1999/Real-time-GesRec',\n",
    "          video_path='/mnt/data/yxchen/gesture-datasets/ems',\n",
    "          annotation_path='annotation_ems/ems%s.json' % (expr_name),\n",
    "          result_path='results/ems%s_test' % (expr_name),\n",
    "          model_path='results/ems%s/save_30.pth' %(expr_name))\n",
    "y_pred, y_true, test_data = tester.test()\n"
   ]
  },
  {
   "cell_type": "code",
   "execution_count": 20,
   "metadata": {},
   "outputs": [
    {
     "data": {
      "text/plain": [
       "[99.494949494949495, 99.5, 99.0, 98.5, 99.0]"
      ]
     },
     "execution_count": 20,
     "metadata": {},
     "output_type": "execute_result"
    }
   ],
   "source": [
    "accuracy_list"
   ]
  },
  {
   "cell_type": "code",
   "execution_count": null,
   "metadata": {},
   "outputs": [],
   "source": []
  }
 ],
 "metadata": {
  "kernelspec": {
   "display_name": "Python 3",
   "language": "python",
   "name": "python3"
  },
  "language_info": {
   "codemirror_mode": {
    "name": "ipython",
    "version": 3
   },
   "file_extension": ".py",
   "mimetype": "text/x-python",
   "name": "python",
   "nbconvert_exporter": "python",
   "pygments_lexer": "ipython3",
   "version": "3.6.7"
  }
 },
 "nbformat": 4,
 "nbformat_minor": 2
}
