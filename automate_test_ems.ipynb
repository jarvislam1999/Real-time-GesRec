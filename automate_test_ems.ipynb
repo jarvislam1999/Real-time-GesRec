{
 "cells": [
  {
   "cell_type": "code",
   "execution_count": 4,
   "metadata": {},
   "outputs": [],
   "source": [
    "import sys\n",
    "sys.path.append('.')\n",
    "\n",
    "import numpy as np\n",
    "\n",
    "from annotation_ems.gen_dataset import generate_dataset\n",
    "from annotation_ems.ems_prepare import split, prepare_json\n",
    "import itertools as it\n",
    "\n",
    "import subprocess\n",
    "import os\n",
    "import time\n",
    "import random\n",
    "\n",
    "### begin of config\n",
    "\n",
    "dataset_path = '/mnt/data/yxchen/gesture-datasets/ems'\n",
    "output_path = './annotation_ems/'\n",
    "\n",
    "modality = \"rgb\"  # d, rgb, rgbd\n",
    "labels = ['wrist_left', 'wrist_right', 'pronation', 'supination']"
   ]
  },
  {
   "cell_type": "code",
   "execution_count": 5,
   "metadata": {},
   "outputs": [],
   "source": [
    "data_batch = ['subject01_setting3_bg02_01', \\\n",
    "             '12_3_position2-1', \\\n",
    "             '12_5_position2_with_close_bg_object', \\\n",
    "             '12_6_position2_with_further_bg_object']\n",
    "#data_batch = [6,5,4,3,2,1]\n",
    "data_batch.sort()"
   ]
  },
  {
   "cell_type": "code",
   "execution_count": 13,
   "metadata": {},
   "outputs": [
    {
     "data": {
      "text/plain": [
       "['12_3_position2-1',\n",
       " '12_5_position2_with_close_bg_object',\n",
       " '12_6_position2_with_further_bg_object',\n",
       " 'subject01_setting3_bg02_01']"
      ]
     },
     "execution_count": 13,
     "metadata": {},
     "output_type": "execute_result"
    }
   ],
   "source": [
    "data_batch"
   ]
  },
  {
   "cell_type": "code",
   "execution_count": 6,
   "metadata": {},
   "outputs": [
    {
     "name": "stdout",
     "output_type": "stream",
     "text": [
      "27.9\n",
      "27.10\n",
      "27.11\n",
      "27.12\n",
      "27.13\n"
     ]
    }
   ],
   "source": [
    "train_ratio = 0\n",
    "test_ratio = 0\n",
    "count = 9\n",
    "expr_name = \"27.\"\n",
    "model = \"27.8\"\n",
    "\n",
    "train_partition = {x: train_ratio for x in data_batch}\n",
    "test_partition = {x: test_ratio for x in data_batch}\n",
    "generate_dataset(expr_name=expr_name+str(count), modality=modality, dataset_path=dataset_path, output_path=output_path, train_partition=train_partition, test_partition=test_partition, labels=labels)\n",
    "prepare_json(csv_dir_path=output_path, expr_name=expr_name+str(count))\n",
    "print(expr_name+str(count))\n",
    "\n",
    "count += 1\n",
    "for dataset in data_batch:\n",
    "    print(expr_name+str(count))\n",
    "    train_partition = {dataset: train_ratio }    \n",
    "    test_partition = {dataset: test_ratio}\n",
    "    generate_dataset(expr_name=expr_name+str(count), modality=modality, dataset_path=dataset_path, output_path=output_path, train_partition=train_partition, test_partition=test_partition, labels=labels)\n",
    "    prepare_json(csv_dir_path=output_path, expr_name=expr_name+str(count))\n",
    "    count += 1"
   ]
  },
  {
   "cell_type": "code",
   "execution_count": 9,
   "metadata": {},
   "outputs": [],
   "source": [
    "import os\n",
    "os.environ[\"CUDA_VISIBLE_DEVICES\"] = \"%d\" % random.randrange(0,4)\n",
    "\n",
    "import sys\n",
    "# sys.path.append('../')\n",
    "os.chdir(\"/mnt/data/jarvislam1999/Real-time-GesRec/\")\n",
    "\n",
    "from ems_tester import EMSTester"
   ]
  },
  {
   "cell_type": "code",
   "execution_count": 14,
   "metadata": {},
   "outputs": [
    {
     "name": "stdout",
     "output_type": "stream",
     "text": [
      "Namespace(annotation_path='/mnt/data/jarvislam1999/Real-time-GesRec/annotation_ems/ems1.2.1.json', arch='resnext-101', batch_size=1, begin_epoch=1, checkpoint=1, crop_position_in_test='c', dampening=0.9, dataset='ems', ft_begin_index=0, initial_scale=1.0, learning_rate=0.1, lr_patience=10, lr_steps=[10, 25, 50, 80, 100], manual_seed=1, mean=[114.7748, 107.7354, 99.475], mean_dataset='activitynet', modality='RGB', model='resnext', model_depth=101, momentum=0.9, n_classes=400, n_epochs=200, n_finetune_classes=4, n_scales=5, n_threads=1, n_val_samples=1, nesterov=False, no_cuda=False, no_hflip=False, no_mean_norm=False, no_softmax_in_test=False, no_train=False, no_val=False, norm_value=1, optimizer='sgd', pretrain_path='', resnet_shortcut='B', resnext_cardinality=32, result_path='/mnt/data/jarvislam1999/Real-time-GesRec/results/ems1.2.1_test', resume_path='/mnt/data/jarvislam1999/Real-time-GesRec/results/ems1.1/save_30.pth', root_path='/mnt/data/jarvislam1999/Real-time-GesRec', sample_duration=32, sample_size=112, scale_in_test=1.0, scale_step=0.84089641525, scales=[1.0, 0.84089641525, 0.7071067811803005, 0.5946035574934808, 0.4999999999911653], std=[38.7568578, 37.88248729, 40.02898126], std_norm=False, store_name='model', test=False, test_subset='test', train_crop='corner', train_validate=False, video_path='/mnt/data/yxchen/gesture-datasets/ems', weight_decay=0.001, weighted=False, wide_resnet_k=2)\n",
      "[INFO]: RGB model is used for init model\n",
      "Total number of trainable parameters:  47529412\n",
      "[INFO]: EMS Dataset - testing is loading...\n",
      "dataset loading [0/1998]\n",
      "dataset loading [1000/1998]\n",
      "loading checkpoint /mnt/data/jarvislam1999/Real-time-GesRec/results/ems1.1/save_30.pth\n",
      "Batch time: 0\n",
      "Batch time: 0.14416430077633938\n",
      "-----Evaluation is finished------\n",
      "Overall Prec@1 99.69970%\n"
     ]
    }
   ],
   "source": [
    "count = 1\n",
    "tester = EMSTester(root_path='/mnt/data/jarvislam1999/Real-time-GesRec',\n",
    "          video_path='/mnt/data/yxchen/gesture-datasets/ems',\n",
    "          annotation_path='annotation_ems/ems%s.json' % (expr_name+str(count)),\n",
    "          result_path='results/ems%s_test' % (expr_name+str(count)),\n",
    "          model_path='results/ems%s/save_30.pth' %model)\n",
    "y_pred, y_true, test_data = tester.test()\n"
   ]
  },
  {
   "cell_type": "code",
   "execution_count": 10,
   "metadata": {},
   "outputs": [],
   "source": [
    "count = 10"
   ]
  },
  {
   "cell_type": "code",
   "execution_count": 11,
   "metadata": {},
   "outputs": [
    {
     "name": "stdout",
     "output_type": "stream",
     "text": [
      "27.10\n",
      "Namespace(annotation_path='/mnt/data/jarvislam1999/Real-time-GesRec/annotation_ems/ems27.10.json', arch='resnext-101', batch_size=1, begin_epoch=1, checkpoint=1, crop_position_in_test='c', dampening=0.9, dataset='ems', ft_begin_index=0, initial_scale=1.0, learning_rate=0.1, lr_patience=10, lr_steps=[10, 25, 50, 80, 100], manual_seed=1, mean=[114.7748, 107.7354, 99.475], mean_dataset='activitynet', modality='RGB', model='resnext', model_depth=101, momentum=0.9, n_classes=400, n_epochs=200, n_finetune_classes=4, n_scales=5, n_threads=1, n_val_samples=1, nesterov=False, no_cuda=False, no_hflip=False, no_mean_norm=False, no_softmax_in_test=False, no_train=False, no_val=False, norm_value=1, optimizer='sgd', pretrain_path='', resnet_shortcut='B', resnext_cardinality=32, result_path='/mnt/data/jarvislam1999/Real-time-GesRec/results/ems27.10_test', resume_path='/mnt/data/jarvislam1999/Real-time-GesRec/results/ems27.8/save_30.pth', root_path='/mnt/data/jarvislam1999/Real-time-GesRec', sample_duration=32, sample_size=112, scale_in_test=1.0, scale_step=0.84089641525, scales=[1.0, 0.84089641525, 0.7071067811803005, 0.5946035574934808, 0.4999999999911653], std=[38.7568578, 37.88248729, 40.02898126], std_norm=False, store_name='model', test=False, test_subset='test', train_crop='corner', train_validate=False, video_path='/mnt/data/yxchen/gesture-datasets/ems', weight_decay=0.001, weighted=False, wide_resnet_k=2)\n",
      "[INFO]: RGB model is used for init model\n",
      "Total number of trainable parameters:  47529412\n",
      "[INFO]: EMS Dataset - testing is loading...\n",
      "dataset loading [0/400]\n",
      "loading checkpoint /mnt/data/jarvislam1999/Real-time-GesRec/results/ems27.8/save_30.pth\n",
      "Batch time: 0\n",
      "Batch time: 0.15232723951339722\n",
      "-----Evaluation is finished------\n",
      "Overall Prec@1 32.50000%\n",
      "27.11\n",
      "Namespace(annotation_path='/mnt/data/jarvislam1999/Real-time-GesRec/annotation_ems/ems27.11.json', arch='resnext-101', batch_size=1, begin_epoch=1, checkpoint=1, crop_position_in_test='c', dampening=0.9, dataset='ems', ft_begin_index=0, initial_scale=1.0, learning_rate=0.1, lr_patience=10, lr_steps=[10, 25, 50, 80, 100], manual_seed=1, mean=[114.7748, 107.7354, 99.475], mean_dataset='activitynet', modality='RGB', model='resnext', model_depth=101, momentum=0.9, n_classes=400, n_epochs=200, n_finetune_classes=4, n_scales=5, n_threads=1, n_val_samples=1, nesterov=False, no_cuda=False, no_hflip=False, no_mean_norm=False, no_softmax_in_test=False, no_train=False, no_val=False, norm_value=1, optimizer='sgd', pretrain_path='', resnet_shortcut='B', resnext_cardinality=32, result_path='/mnt/data/jarvislam1999/Real-time-GesRec/results/ems27.11_test', resume_path='/mnt/data/jarvislam1999/Real-time-GesRec/results/ems27.8/save_30.pth', root_path='/mnt/data/jarvislam1999/Real-time-GesRec', sample_duration=32, sample_size=112, scale_in_test=1.0, scale_step=0.84089641525, scales=[1.0, 0.84089641525, 0.7071067811803005, 0.5946035574934808, 0.4999999999911653], std=[38.7568578, 37.88248729, 40.02898126], std_norm=False, store_name='model', test=False, test_subset='test', train_crop='corner', train_validate=False, video_path='/mnt/data/yxchen/gesture-datasets/ems', weight_decay=0.001, weighted=False, wide_resnet_k=2)\n",
      "[INFO]: RGB model is used for init model\n",
      "Total number of trainable parameters:  47529412\n",
      "[INFO]: EMS Dataset - testing is loading...\n",
      "dataset loading [0/400]\n",
      "loading checkpoint /mnt/data/jarvislam1999/Real-time-GesRec/results/ems27.8/save_30.pth\n",
      "Batch time: 0\n",
      "Batch time: 0.15383307218551637\n",
      "-----Evaluation is finished------\n",
      "Overall Prec@1 83.50000%\n",
      "27.12\n",
      "Namespace(annotation_path='/mnt/data/jarvislam1999/Real-time-GesRec/annotation_ems/ems27.12.json', arch='resnext-101', batch_size=1, begin_epoch=1, checkpoint=1, crop_position_in_test='c', dampening=0.9, dataset='ems', ft_begin_index=0, initial_scale=1.0, learning_rate=0.1, lr_patience=10, lr_steps=[10, 25, 50, 80, 100], manual_seed=1, mean=[114.7748, 107.7354, 99.475], mean_dataset='activitynet', modality='RGB', model='resnext', model_depth=101, momentum=0.9, n_classes=400, n_epochs=200, n_finetune_classes=4, n_scales=5, n_threads=1, n_val_samples=1, nesterov=False, no_cuda=False, no_hflip=False, no_mean_norm=False, no_softmax_in_test=False, no_train=False, no_val=False, norm_value=1, optimizer='sgd', pretrain_path='', resnet_shortcut='B', resnext_cardinality=32, result_path='/mnt/data/jarvislam1999/Real-time-GesRec/results/ems27.12_test', resume_path='/mnt/data/jarvislam1999/Real-time-GesRec/results/ems27.8/save_30.pth', root_path='/mnt/data/jarvislam1999/Real-time-GesRec', sample_duration=32, sample_size=112, scale_in_test=1.0, scale_step=0.84089641525, scales=[1.0, 0.84089641525, 0.7071067811803005, 0.5946035574934808, 0.4999999999911653], std=[38.7568578, 37.88248729, 40.02898126], std_norm=False, store_name='model', test=False, test_subset='test', train_crop='corner', train_validate=False, video_path='/mnt/data/yxchen/gesture-datasets/ems', weight_decay=0.001, weighted=False, wide_resnet_k=2)\n",
      "[INFO]: RGB model is used for init model\n",
      "Total number of trainable parameters:  47529412\n",
      "[INFO]: EMS Dataset - testing is loading...\n",
      "dataset loading [0/400]\n",
      "loading checkpoint /mnt/data/jarvislam1999/Real-time-GesRec/results/ems27.8/save_30.pth\n",
      "Batch time: 0\n",
      "Batch time: 0.1537938505411148\n",
      "-----Evaluation is finished------\n",
      "Overall Prec@1 74.50000%\n",
      "27.13\n",
      "Namespace(annotation_path='/mnt/data/jarvislam1999/Real-time-GesRec/annotation_ems/ems27.13.json', arch='resnext-101', batch_size=1, begin_epoch=1, checkpoint=1, crop_position_in_test='c', dampening=0.9, dataset='ems', ft_begin_index=0, initial_scale=1.0, learning_rate=0.1, lr_patience=10, lr_steps=[10, 25, 50, 80, 100], manual_seed=1, mean=[114.7748, 107.7354, 99.475], mean_dataset='activitynet', modality='RGB', model='resnext', model_depth=101, momentum=0.9, n_classes=400, n_epochs=200, n_finetune_classes=4, n_scales=5, n_threads=1, n_val_samples=1, nesterov=False, no_cuda=False, no_hflip=False, no_mean_norm=False, no_softmax_in_test=False, no_train=False, no_val=False, norm_value=1, optimizer='sgd', pretrain_path='', resnet_shortcut='B', resnext_cardinality=32, result_path='/mnt/data/jarvislam1999/Real-time-GesRec/results/ems27.13_test', resume_path='/mnt/data/jarvislam1999/Real-time-GesRec/results/ems27.8/save_30.pth', root_path='/mnt/data/jarvislam1999/Real-time-GesRec', sample_duration=32, sample_size=112, scale_in_test=1.0, scale_step=0.84089641525, scales=[1.0, 0.84089641525, 0.7071067811803005, 0.5946035574934808, 0.4999999999911653], std=[38.7568578, 37.88248729, 40.02898126], std_norm=False, store_name='model', test=False, test_subset='test', train_crop='corner', train_validate=False, video_path='/mnt/data/yxchen/gesture-datasets/ems', weight_decay=0.001, weighted=False, wide_resnet_k=2)\n",
      "[INFO]: RGB model is used for init model\n",
      "Total number of trainable parameters:  47529412\n",
      "[INFO]: EMS Dataset - testing is loading...\n",
      "dataset loading [0/400]\n",
      "loading checkpoint /mnt/data/jarvislam1999/Real-time-GesRec/results/ems27.8/save_30.pth\n",
      "Batch time: 0\n",
      "Batch time: 0.15131572306156157\n",
      "-----Evaluation is finished------\n",
      "Overall Prec@1 92.25000%\n"
     ]
    }
   ],
   "source": [
    "accuracy_list = []\n",
    "\n",
    "for dataset in data_batch:\n",
    "    print(expr_name+str(count))\n",
    "    tester = EMSTester(root_path='/mnt/data/jarvislam1999/Real-time-GesRec',\n",
    "              video_path='/mnt/data/yxchen/gesture-datasets/ems',\n",
    "              annotation_path='annotation_ems/ems%s.json' % (expr_name+str(count)),\n",
    "              result_path='results/ems%s_test' % (expr_name+str(count)),\n",
    "              model_path='results/ems%s/save_30.pth' %model)\n",
    "    y_pred, y_true, test_data = tester.test()\n",
    "    accuracy_list.append(np.sum(np.equal(y_pred, y_true))/len(y_pred)*100)\n",
    "    count += 1\n"
   ]
  },
  {
   "cell_type": "code",
   "execution_count": 12,
   "metadata": {},
   "outputs": [
    {
     "data": {
      "text/plain": [
       "[32.5, 83.5, 74.5, 92.25]"
      ]
     },
     "execution_count": 12,
     "metadata": {},
     "output_type": "execute_result"
    }
   ],
   "source": [
    "accuracy_list"
   ]
  },
  {
   "cell_type": "code",
   "execution_count": 165,
   "metadata": {
    "scrolled": true
   },
   "outputs": [
    {
     "name": "stdout",
     "output_type": "stream",
     "text": [
      "('subject01_machine_recovery_3gps_2pairs', 'subject01_machine_recovery_3gps_2pairs_03', 'subject01_machine_recovery_3gps_2pairs_04', 'subject01_machine_recovery_3gps_2pairs_05', 'subject01_machine_recovery_3gps_2pairs_06')\n",
      "[95.477386934673376, -100.0, -100.0, -99.5, -100.0]\n"
     ]
    },
    {
     "data": {
      "image/png": "[encoded data removed]",
      "text/plain": [
       "<Figure size 640x480 with 5 Axes>"
      ]
     },
     "metadata": {},
     "output_type": "display_data"
    }
   ],
   "source": [
    "import matplotlib.pyplot as plt; plt.rcdefaults()\n",
    "import numpy as np\n",
    "import matplotlib.pyplot as plt\n",
    "\n",
    "objects = tuple(data_batch)\n",
    "y_pos = np.arange(len(objects))\n",
    "performance = accuracy_dict[expr_name_train+'0005']\n",
    "print(objects)\n",
    "print(performance)\n",
    "\n",
    "#plt.subplot(111)\n",
    "count = 1\n",
    "for combination in combinations:\n",
    "    name = '000%d' % count if (count <= 10) else \\\n",
    "        ('00%d' % count if count <=100 else \\\n",
    "        ('0%d' % count if count <= 1000 else \\\n",
    "        ('%d' %count)))\n",
    "    #objects = tuple([\"\"]*len(objects))\n",
    "    y_pos = np.arange(len(objects))\n",
    "    performance = accuracy_dict[expr_name_train+name]\n",
    "    greater = np.logical_or(np.greater(0, performance),\\\n",
    "                             np.greater(performance, 90))\n",
    "    color = [\"b\" if x else \"r\" for x in greater]\n",
    "    plt.subplot(len(objects) // 3 + 1,3,count)\n",
    "    plt.bar(y_pos, performance, align='edge', alpha=0.5,color = color)\n",
    "\n",
    "    #plt.xticks(y_pos, objects)\n",
    "    #plt.ylabel('Performance')\n",
    "    #plt.title('Test data')\n",
    "    count += 1\n",
    "\n",
    "plt.show()"
   ]
  },
  {
   "cell_type": "code",
   "execution_count": null,
   "metadata": {},
   "outputs": [],
   "source": []
  }
 ],
 "metadata": {
  "kernelspec": {
   "display_name": "Python 3",
   "language": "python",
   "name": "python3"
  },
  "language_info": {
   "codemirror_mode": {
    "name": "ipython",
    "version": 3
   },
   "file_extension": ".py",
   "mimetype": "text/x-python",
   "name": "python",
   "nbconvert_exporter": "python",
   "pygments_lexer": "ipython3",
   "version": "3.6.7"
  }
 },
 "nbformat": 4,
 "nbformat_minor": 2
}
