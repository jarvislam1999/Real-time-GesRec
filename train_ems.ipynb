{
 "cells": [
  {
   "cell_type": "code",
   "execution_count": 5,
   "metadata": {},
   "outputs": [],
   "source": [
    "import sys\n",
    "sys.path.append('.')\n",
    "\n",
    "import numpy as np\n",
    "\n",
    "from annotation_ems.gen_dataset import generate_dataset\n",
    "from annotation_ems.ems_prepare import split, prepare_json\n",
    "import itertools as it\n",
    "\n",
    "import subprocess\n",
    "import os\n",
    "import time\n",
    "import random\n",
    "\n",
    "### begin of config\n",
    "\n",
    "dataset_path = '/mnt/data/jarvislam1999'\n",
    "output_path = './annotation_ems/'\n",
    "model =  '/mnt/data/jarvislam1999/Real-time-GesRec/results/ems25.1/save_30.pth'\n",
    "n_classes = 4\n",
    "\n",
    "modality = \"rgb\"  # d, rgb, rgbd\n",
    "labels = ['wrist_left', 'wrist_right', 'pronation', 'supination']"
   ]
  },
  {
   "cell_type": "code",
   "execution_count": 6,
   "metadata": {},
   "outputs": [],
   "source": [
    "data_batch = ['12_1_basic_bg0001', \\\n",
    "             '12_1_basic_bg0002', \\\n",
    "             '12_1_basic', \\\n",
    "             '12_2_basic2_depth_bg0001', \\\n",
    "             '12_2_basic2_depth_bg0002', \\\n",
    "             '12_2_basic2', \\\n",
    "             '12_4_position2_bg0001',\\\n",
    "             '12_4_position2_bg0002',\\\n",
    "             '12_4_position2',\\\n",
    "             'subject01_setting3_bg03_01',\\\n",
    "             'subject01_setting3_bg04_01']\n",
    "#data_batch = [6,5,4,3,2,1]\n",
    "data_batch.sort()"
   ]
  },
  {
   "cell_type": "code",
   "execution_count": 7,
   "metadata": {},
   "outputs": [
    {
     "name": "stdout",
     "output_type": "stream",
     "text": [
      "27.8\n"
     ]
    }
   ],
   "source": [
    "train_ratio = 50\n",
    "test_ratio = 50\n",
    "count = 1\n",
    "expr_name = \"27.8\"\n",
    "\n",
    "train_partition = {x: train_ratio for x in data_batch}\n",
    "test_partition = {x: test_ratio for x in data_batch}\n",
    "generate_dataset(expr_name=expr_name, modality=modality, dataset_path=dataset_path, output_path=output_path, train_partition=train_partition, test_partition=test_partition, labels=labels)\n",
    "prepare_json(csv_dir_path=output_path, expr_name=expr_name)\n",
    "print(expr_name)\n"
   ]
  },
  {
   "cell_type": "code",
   "execution_count": 11,
   "metadata": {},
   "outputs": [
    {
     "name": "stdout",
     "output_type": "stream",
     "text": [
      "27.8\n"
     ]
    }
   ],
   "source": [
    "processes = set()\n",
    "\n",
    "cmd = \"CUDA_VISIBLE_DEVICES=%d nohup python main.py \\\n",
    "        --root_path /mnt/data/jarvislam1999/Real-time-GesRec \\\n",
    "        --video_path %s \\\n",
    "        --annotation_path annotation_ems/ems%s.json\\\n",
    "        --result_path results/ems%s \\\n",
    "        --pretrain_path %s \\\n",
    "        --dataset ems \\\n",
    "        --sample_duration 32 \\\n",
    "        --learning_rate 0.01 \\\n",
    "        --model resnext \\\n",
    "        --model_depth 101 \\\n",
    "        --resnet_shortcut B \\\n",
    "        --batch_size 12 \\\n",
    "        --n_classes %d \\\n",
    "        --n_finetune_classes 4 \\\n",
    "        --n_threads 16 \\\n",
    "        --checkpoint 1 \\\n",
    "        --modality RGB \\\n",
    "        --train_crop random \\\n",
    "        --n_val_samples 1 \\\n",
    "        --test_subset test \\\n",
    "        --n_epochs 40 \\\n",
    "        --no_val \\\n",
    "        --checkpoint 5\\\n",
    "    \" % ((count-1) % 4, dataset_path, expr_name,expr_name, model, n_classes)\n",
    "print(expr_name)\n",
    "out = open('ems%sout.txt'%(expr_name), 'w')\n",
    "processes.add(subprocess.Popen(cmd, shell=True, stdout = out, stderr = out))\n",
    "#Check if all the child processes were closed\n",
    "for p in processes:\n",
    "    if p.poll() is None:\n",
    "        p.wait()\n",
    "        \n"
   ]
  },
  {
   "cell_type": "code",
   "execution_count": 12,
   "metadata": {},
   "outputs": [],
   "source": [
    "import os\n",
    "os.environ[\"CUDA_VISIBLE_DEVICES\"] = \"%d\" % random.randrange(0,4)\n",
    "\n",
    "import sys\n",
    "# sys.path.append('../')\n",
    "os.chdir(\"/mnt/data/jarvislam1999/Real-time-GesRec/\")\n",
    "\n",
    "from ems_tester import EMSTester"
   ]
  },
  {
   "cell_type": "code",
   "execution_count": 14,
   "metadata": {},
   "outputs": [
    {
     "name": "stdout",
     "output_type": "stream",
     "text": [
      "Namespace(annotation_path='/mnt/data/jarvislam1999/Real-time-GesRec/annotation_ems/ems27.8.json', arch='resnext-101', batch_size=1, begin_epoch=1, checkpoint=1, crop_position_in_test='c', dampening=0.9, dataset='ems', ft_begin_index=0, initial_scale=1.0, learning_rate=0.1, lr_patience=10, lr_steps=[10, 25, 50, 80, 100], manual_seed=1, mean=[114.7748, 107.7354, 99.475], mean_dataset='activitynet', modality='RGB', model='resnext', model_depth=101, momentum=0.9, n_classes=400, n_epochs=200, n_finetune_classes=4, n_scales=5, n_threads=1, n_val_samples=1, nesterov=False, no_cuda=False, no_hflip=False, no_mean_norm=False, no_softmax_in_test=False, no_train=False, no_val=False, norm_value=1, optimizer='sgd', pretrain_path='', resnet_shortcut='B', resnext_cardinality=32, result_path='/mnt/data/jarvislam1999/Real-time-GesRec/results/ems27.8_test', resume_path='/mnt/data/jarvislam1999/Real-time-GesRec/results/ems27.8/save_30.pth', root_path='/mnt/data/jarvislam1999/Real-time-GesRec', sample_duration=32, sample_size=112, scale_in_test=1.0, scale_step=0.84089641525, scales=[1.0, 0.84089641525, 0.7071067811803005, 0.5946035574934808, 0.4999999999911653], std=[38.7568578, 37.88248729, 40.02898126], std_norm=False, store_name='model', test=False, test_subset='test', train_crop='corner', train_validate=False, video_path='/mnt/data/jarvislam1999', weight_decay=0.001, weighted=False, wide_resnet_k=2)\n",
      "[INFO]: RGB model is used for init model\n",
      "Total number of trainable parameters:  47529412\n",
      "[INFO]: EMS Dataset - testing is loading...\n",
      "dataset loading [0/2200]\n",
      "dataset loading [1000/2200]\n",
      "dataset loading [2000/2200]\n",
      "loading checkpoint /mnt/data/jarvislam1999/Real-time-GesRec/results/ems27.8/save_30.pth\n",
      "Batch time: 0\n",
      "Batch time: 0.16840256235816262\n",
      "-----Evaluation is finished------\n",
      "Overall Prec@1 99.45455%\n"
     ]
    }
   ],
   "source": [
    "tester = EMSTester(root_path='/mnt/data/jarvislam1999/Real-time-GesRec',\n",
    "          video_path='%s'% dataset_path,\n",
    "          annotation_path='annotation_ems/ems%s.json' % (expr_name),\n",
    "          result_path='results/ems%s_test' % (expr_name),\n",
    "          model_path='results/ems%s/save_30.pth' %(expr_name))\n",
    "y_pred, y_true, test_data = tester.test()\n"
   ]
  },
  {
   "cell_type": "code",
   "execution_count": null,
   "metadata": {},
   "outputs": [],
   "source": []
  }
 ],
 "metadata": {
  "kernelspec": {
   "display_name": "Python 3",
   "language": "python",
   "name": "python3"
  },
  "language_info": {
   "codemirror_mode": {
    "name": "ipython",
    "version": 3
   },
   "file_extension": ".py",
   "mimetype": "text/x-python",
   "name": "python",
   "nbconvert_exporter": "python",
   "pygments_lexer": "ipython3",
   "version": "3.6.7"
  }
 },
 "nbformat": 4,
 "nbformat_minor": 2
}
